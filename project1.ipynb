{
 "cells": [
  {
   "cell_type": "markdown",
   "id": "3a218af4-3360-49b7-b75b-6a96291ee7dd",
   "metadata": {},
   "source": [
    "# TASK 1"
   ]
  },
  {
   "cell_type": "markdown",
   "id": "b429c623-52f4-4a1f-9beb-b83d839ecc7b",
   "metadata": {},
   "source": [
    "## Cleaning of the data using pure Python"
   ]
  },
  {
   "cell_type": "code",
   "execution_count": 5,
   "id": "c92519f1-2c0b-4cfa-8dc9-2f7b6c7aea4e",
   "metadata": {},
   "outputs": [],
   "source": [
    "import json"
   ]
  },
  {
   "cell_type": "code",
   "execution_count": 6,
   "id": "0efa12a6-2e44-40b6-abb1-ad6f3e5b01fd",
   "metadata": {},
   "outputs": [],
   "source": [
    "def loaddata(filename):\n",
    "    with open(filename , \"r\") as f:  \n",
    "        data = json.load(filename)\n",
    "    return data"
   ]
  },
  {
   "cell_type": "code",
   "execution_count": null,
   "id": "9301a55a-56f3-4d59-90f6-7bc48bdf720e",
   "metadata": {},
   "outputs": [],
   "source": []
  },
  {
   "cell_type": "code",
   "execution_count": 7,
   "id": "477cba74-2902-495d-9bf0-af05f7a6d60c",
   "metadata": {},
   "outputs": [],
   "source": [
    "# function to load data\n",
    "def loaddata(filename):\n",
    "    with open(filename,\"r\") as f:\n",
    "        data = json.load(f)\n",
    "    return data"
   ]
  },
  {
   "cell_type": "code",
   "execution_count": 8,
   "id": "4e12b4c9-59e8-431a-aff9-185c6288150d",
   "metadata": {},
   "outputs": [],
   "source": [
    "data = loaddata(\"dataset.json\")"
   ]
  },
  {
   "cell_type": "code",
   "execution_count": 9,
   "id": "b9844bd8-526e-4eba-9d4b-633b02d22bb7",
   "metadata": {},
   "outputs": [
    {
     "data": {
      "text/plain": [
       "[{'id': '1',\n",
       "  'name': '  Alice ',\n",
       "  'age': '30 ',\n",
       "  'department': ' Sales ',\n",
       "  'salary': ' 60000 ',\n",
       "  'experience_years': '5'},\n",
       " {'id': '2',\n",
       "  'name': 'Bob',\n",
       "  'age': ' ',\n",
       "  'department': 'HR',\n",
       "  'salary': '75000',\n",
       "  'experience_years': '20'},\n",
       " {'id': '3',\n",
       "  'name': 'Charlie',\n",
       "  'age': '25',\n",
       "  'department': 'IT ',\n",
       "  'salary': '$50000',\n",
       "  'experience_years': '2'},\n",
       " {'id': '4',\n",
       "  'name': 'David',\n",
       "  'age': '35',\n",
       "  'department': ' Sales',\n",
       "  'salary': '65,000 ',\n",
       "  'experience_years': '8'},\n",
       " {'id': '5',\n",
       "  'name': 'Eve',\n",
       "  'age': '29',\n",
       "  'department': 'IT',\n",
       "  'salary': '58000',\n",
       "  'experience_years': 'four'},\n",
       " {'id': '6',\n",
       "  'name': '',\n",
       "  'age': '40',\n",
       "  'department': 'Marketing',\n",
       "  'salary': '68000',\n",
       "  'experience_years': '10'}]"
      ]
     },
     "execution_count": 9,
     "metadata": {},
     "output_type": "execute_result"
    }
   ],
   "source": [
    "data"
   ]
  },
  {
   "cell_type": "markdown",
   "id": "a1fd3a47-356b-4886-b8f2-d143ab90f918",
   "metadata": {},
   "source": [
    "## Problems\n",
    "1. extra spaces\n",
    "2. empty values\n",
    "3. incorrect format of values\n"
   ]
  },
  {
   "cell_type": "code",
   "execution_count": 34,
   "id": "47401808-203e-430f-adac-63b2d1552e84",
   "metadata": {},
   "outputs": [
    {
     "data": {
      "text/plain": [
       "[{'id': '1',\n",
       "  'name': 'Alice',\n",
       "  'age': '30',\n",
       "  'department': 'Sales',\n",
       "  'salary': '60000',\n",
       "  'experience_years': '5'},\n",
       " {'id': '3',\n",
       "  'name': 'Charlie',\n",
       "  'age': '25',\n",
       "  'department': 'IT',\n",
       "  'salary': '50000',\n",
       "  'experience_years': '2'},\n",
       " {'id': '4',\n",
       "  'name': 'David',\n",
       "  'age': '35',\n",
       "  'department': 'Sales',\n",
       "  'salary': '65000',\n",
       "  'experience_years': '8'},\n",
       " {'id': '5',\n",
       "  'name': 'Eve',\n",
       "  'age': '29',\n",
       "  'department': 'IT',\n",
       "  'salary': '58000',\n",
       "  'experience_years': '4'}]"
      ]
     },
     "execution_count": 34,
     "metadata": {},
     "output_type": "execute_result"
    }
   ],
   "source": [
    "# for empty values\n",
    "# no name field and no age \n",
    "filtered_data = [\n",
    "    row for row in data\n",
    "    if row.get(\"name\", \"\").strip() and row.get(\"age\", \"\").strip()\n",
    "]\n",
    "filtered_data"
   ]
  },
  {
   "cell_type": "code",
   "execution_count": 178,
   "id": "415e8822-46c4-40ac-8d82-2635d8234e7d",
   "metadata": {
    "scrolled": true
   },
   "outputs": [],
   "source": [
    "def clean_data(data):\n",
    "    # dictionary for handalig expierience_years format\n",
    "    d  = {\"zero\": \"0\", \"one\": \"1\", \"two\": \"2\", \"three\": \"3\", \"four\": \"4\", \n",
    "          \"five\": \"5\", \"six\": \"6\", \"seven\": \"7\", \"eight\": \"8\", \"nine\": \"9\"}\n",
    "    \n",
    "    # for name field with spaces \n",
    "    for row in filtered_data:\n",
    "        row[\"name\"] = row.get(\"name\", \"\").strip()\n",
    "        #similarly for age\n",
    "        row[\"age\"] = row.get(\"age\", \"\").strip()\n",
    "        #similarly for department name\n",
    "        row[\"department\"] = row.get(\"department\", \"\").strip()\n",
    "        #similarly for salary\n",
    "        row[\"salary\"] = row.get(\"salary\", \"\").strip()\n",
    "    # spaces handaled done\n",
    "        # format handaling\n",
    "        # salary\n",
    "        row[\"salary\"] = row.get(\"salary\", \"\").replace(\",\", \"\").replace(\"$\", \"\").strip()\n",
    "        # expierence_years\n",
    "        exp = row.get(\"experience_years\", \"\").strip()\n",
    "        row[\"experience_years\"] = exp if exp.isdigit() else ''.join(d.get(i.lower(), '') for i in exp.split()\n",
    "        )\n",
    "    print(filtered_data)\n",
    "    return filtered_data"
   ]
  },
  {
   "cell_type": "code",
   "execution_count": 180,
   "id": "daf7c9c3-bdc1-443d-aff0-ab8c92d36481",
   "metadata": {},
   "outputs": [
    {
     "name": "stdout",
     "output_type": "stream",
     "text": [
      "[{'id': '1', 'name': 'Alice', 'age': '30', 'department': 'Sales', 'salary': '60000', 'experience_years': '5'}, {'id': '3', 'name': 'Charlie', 'age': '25', 'department': 'IT', 'salary': '50000', 'experience_years': '2'}, {'id': '4', 'name': 'David', 'age': '35', 'department': 'Sales', 'salary': '65000', 'experience_years': '8'}, {'id': '5', 'name': 'Eve', 'age': '29', 'department': 'IT', 'salary': '58000', 'experience_years': '4'}]\n"
     ]
    }
   ],
   "source": [
    "json.dump(clean_data(data),open(\"cleaned_dataset.json\",\"w\") , indent=4) "
   ]
  },
  {
   "cell_type": "markdown",
   "id": "b7e6c8fd-b941-4738-920f-77b2b52e3f6e",
   "metadata": {},
   "source": [
    "## Data cleaning completed"
   ]
  },
  {
   "cell_type": "markdown",
   "id": "42284dad-ea6e-4735-9e51-72e7b2522c42",
   "metadata": {},
   "source": [
    "# TASK 2"
   ]
  },
  {
   "cell_type": "code",
   "execution_count": 59,
   "id": "344e6e74-fe7f-4e3b-8351-dabeb8fd7f43",
   "metadata": {},
   "outputs": [
    {
     "data": {
      "text/plain": [
       "[{'id': '1',\n",
       "  'name': 'Alice',\n",
       "  'age': '30',\n",
       "  'department': 'Sales',\n",
       "  'salary': '60000',\n",
       "  'experience_years': '5'},\n",
       " {'id': '3',\n",
       "  'name': 'Charlie',\n",
       "  'age': '25',\n",
       "  'department': 'IT',\n",
       "  'salary': '50000',\n",
       "  'experience_years': '2'},\n",
       " {'id': '4',\n",
       "  'name': 'David',\n",
       "  'age': '35',\n",
       "  'department': 'Sales',\n",
       "  'salary': '65000',\n",
       "  'experience_years': '8'},\n",
       " {'id': '5',\n",
       "  'name': 'Eve',\n",
       "  'age': '29',\n",
       "  'department': 'IT',\n",
       "  'salary': '58000',\n",
       "  'experience_years': '4'}]"
      ]
     },
     "execution_count": 59,
     "metadata": {},
     "output_type": "execute_result"
    }
   ],
   "source": [
    "data = loaddata(\"cleaned_dataset.json\")\n",
    "data"
   ]
  },
  {
   "cell_type": "code",
   "execution_count": 146,
   "id": "084c612c-8a0e-4171-add8-49add8d4ef1e",
   "metadata": {},
   "outputs": [],
   "source": [
    "def Analysis(data):\n",
    "    dept_salaries = {}\n",
    "    dept_counts = {}\n",
    "    total_salary = 0\n",
    "    total_count = 0\n",
    "    youngest = None\n",
    "    most_experienced = None\n",
    "    most_exp_dept = {}\n",
    "    \n",
    "    for emp in data:\n",
    "        dept = emp[\"department\"]\n",
    "        salary = int(emp[\"salary\"])\n",
    "        age = int(emp[\"age\"])\n",
    "        experience = emp[\"experience_years\"]\n",
    "\n",
    "        # Department-wise salary sums and counts\n",
    "        if dept not in dept_salaries:\n",
    "            dept_salaries[dept] = 0\n",
    "            dept_counts[dept] = 0\n",
    "        dept_salaries[dept] += salary\n",
    "        dept_counts[dept] += 1\n",
    "\n",
    "        # Total salary and count\n",
    "        total_salary += salary\n",
    "        total_count += 1\n",
    "\n",
    "        # Youngest employee\n",
    "        if youngest is None or age < int(youngest[\"age\"]):\n",
    "            youngest = emp\n",
    "            \n",
    "        # Most experienced employee overall\n",
    "        if most_experienced is None or experience > most_experienced[\"experience_years\"]:\n",
    "            most_experienced = emp\n",
    "            \n",
    "        # Most experienced employee per department\n",
    "        if dept not in most_exp_dept or experience > most_exp_dept[dept][\"experience_years\"]:\n",
    "            most_exp_dept[dept] = emp\n",
    "\n",
    "    # Calculate average salary per department\n",
    "    dept_avg_salary = {}\n",
    "    for dept in dept_salaries:\n",
    "        dept_avg_salary[dept] = dept_salaries[dept] / dept_counts[dept]\n",
    "\n",
    "    # Calculate overall average salary\n",
    "    overall_avg_salary = total_salary / total_count if total_count > 0 else 0\n",
    "\n",
    "    # Print results\n",
    "    print(\"Department-wise Average Salary:\")\n",
    "    for dept, avg in dept_avg_salary.items():\n",
    "        print(f\"  - {dept}: ${avg:.2f}\")\n",
    "\n",
    "    print(f\"\\nOverall Average Salary: ${overall_avg_salary:.2f}\")\n",
    "    print(f\"\\nYoungest Employee: {youngest['name']} ({youngest['age']} years old)\")\n",
    "    print(\"Most Experienced Employee:\")\n",
    "    for dept, emp in most_exp_dept.items():\n",
    "        print(f\"  - {dept}: {emp['name']} ({emp['experience_years']} years)\")\n",
    "        \n",
    "    # Return results as dictionary\n",
    "    return {\n",
    "        \"department_avg_salaries\": dept_avg_salary,\n",
    "        \"overall_avg_salary\": overall_avg_salary,\n",
    "        \"youngest_employee\": youngest,\n",
    "        \"most_experienced_employee\": most_experienced,\n",
    "        \"most_experienced_per_department\": most_exp_dept\n",
    "    }\n"
   ]
  },
  {
   "cell_type": "code",
   "execution_count": 148,
   "id": "0b8bbcda-95ed-4c91-81ad-994c596027eb",
   "metadata": {},
   "outputs": [
    {
     "name": "stdout",
     "output_type": "stream",
     "text": [
      "Department-wise Average Salary:\n",
      "  - Sales: $62500.00\n",
      "  - IT: $54000.00\n",
      "\n",
      "Overall Average Salary: $58250.00\n",
      "\n",
      "Youngest Employee: Charlie (25 years old)\n",
      "Most Experienced Employee:\n",
      "  - Sales: David (8 years)\n",
      "  - IT: Eve (4 years)\n"
     ]
    },
    {
     "data": {
      "text/plain": [
       "{'department_avg_salaries': {'Sales': 62500.0, 'IT': 54000.0},\n",
       " 'overall_avg_salary': 58250.0,\n",
       " 'youngest_employee': {'id': '3',\n",
       "  'name': 'Charlie',\n",
       "  'age': '25',\n",
       "  'department': 'IT',\n",
       "  'salary': '50000',\n",
       "  'experience_years': '2'},\n",
       " 'most_experienced_employee': {'id': '4',\n",
       "  'name': 'David',\n",
       "  'age': '35',\n",
       "  'department': 'Sales',\n",
       "  'salary': '65000',\n",
       "  'experience_years': '8'},\n",
       " 'most_experienced_per_department': {'Sales': {'id': '4',\n",
       "   'name': 'David',\n",
       "   'age': '35',\n",
       "   'department': 'Sales',\n",
       "   'salary': '65000',\n",
       "   'experience_years': '8'},\n",
       "  'IT': {'id': '5',\n",
       "   'name': 'Eve',\n",
       "   'age': '29',\n",
       "   'department': 'IT',\n",
       "   'salary': '58000',\n",
       "   'experience_years': '4'}}}"
      ]
     },
     "execution_count": 148,
     "metadata": {},
     "output_type": "execute_result"
    }
   ],
   "source": [
    "Analysis(data)"
   ]
  },
  {
   "cell_type": "code",
   "execution_count": null,
   "id": "83679c95-a0cb-4f65-8a51-c66b933b1d74",
   "metadata": {},
   "outputs": [],
   "source": []
  }
 ],
 "metadata": {
  "kernelspec": {
   "display_name": "Python [conda env:base] *",
   "language": "python",
   "name": "conda-base-py"
  },
  "language_info": {
   "codemirror_mode": {
    "name": "ipython",
    "version": 3
   },
   "file_extension": ".py",
   "mimetype": "text/x-python",
   "name": "python",
   "nbconvert_exporter": "python",
   "pygments_lexer": "ipython3",
   "version": "3.12.7"
  }
 },
 "nbformat": 4,
 "nbformat_minor": 5
}
